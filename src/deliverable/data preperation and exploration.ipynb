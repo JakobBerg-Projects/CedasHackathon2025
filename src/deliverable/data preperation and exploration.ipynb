{
 "cells": [
  {
   "cell_type": "markdown",
   "metadata": {},
   "source": [
    "# Imports"
   ]
  },
  {
   "cell_type": "code",
   "execution_count": 11,
   "metadata": {},
   "outputs": [],
   "source": [
    "import pandas as pd\n",
    "import numpy as np\n",
    "import matplotlib.pyplot as plt\n",
    "import seaborn as sns\n",
    "import plotly.express as px"
   ]
  },
  {
   "cell_type": "markdown",
   "metadata": {},
   "source": [
    "## Reading file"
   ]
  },
  {
   "cell_type": "code",
   "execution_count": 12,
   "metadata": {},
   "outputs": [],
   "source": [
    "df = pd.read_parquet('../data/chargecurves_train.parquet', engine='pyarrow')"
   ]
  },
  {
   "cell_type": "code",
   "execution_count": null,
   "metadata": {},
   "outputs": [],
   "source": [
    "pd.set_option('display.float_format', '{:.2f}'.format) \n",
    "df.describe()\n"
   ]
  },
  {
   "cell_type": "markdown",
   "metadata": {},
   "source": [
    "Here we see that we have 3960349.00 observations of different charging sessions. We have a sub_id that goes from 0 to 39. This means that we for each car look at their changes in SOC and Power over 40 minutes. We have some observations that are invalid. SOC cant be more than 100 as a car can't have more than 100% charge. Some power observations are abnormaly high. These issues we will handle later"
   ]
  },
  {
   "cell_type": "markdown",
   "metadata": {},
   "source": [
    "# Handling invalid data"
   ]
  },
  {
   "cell_type": "markdown",
   "metadata": {},
   "source": [
    "## Remove invalid SOC over 100"
   ]
  },
  {
   "cell_type": "code",
   "execution_count": 14,
   "metadata": {},
   "outputs": [],
   "source": [
    "df.loc[df['soc'] > 100, 'soc'] = np.nan\n"
   ]
  },
  {
   "cell_type": "markdown",
   "metadata": {},
   "source": [
    "## Remove invalid power values with power higher than nominal power"
   ]
  },
  {
   "cell_type": "code",
   "execution_count": null,
   "metadata": {},
   "outputs": [],
   "source": [
    "df_over_nominal = df.loc[df['power'] > df['nominal_power']+1, ['power', 'nominal_power', 'location_id', 'timestamp', 'id']]\n",
    "df_over_nominal['difference'] = df_over_nominal['power'] - df_over_nominal['nominal_power']\n",
    "\n",
    "df = df[~df['id'].isin(df_over_nominal['id'])]\n",
    "\n",
    "\n",
    "# Plot the histogram for the difference\n",
    "fig = px.histogram(df_over_nominal, x='difference', title='Power over nominal power')\n",
    "fig.show()\n",
    "\n",
    "\n"
   ]
  },
  {
   "cell_type": "markdown",
   "metadata": {},
   "source": [
    "A charger can't give more power than their nominal_power. Therefor a power observations that is higher than the nominal power is invalid. We have set a treshold of 1 over the nominal_power as we believe a minimal difference won't impact model performance. We can see in the histogram that we have a large spread of these differences."
   ]
  },
  {
   "cell_type": "markdown",
   "metadata": {},
   "source": [
    "# Reshaping the dataFrame"
   ]
  },
  {
   "cell_type": "code",
   "execution_count": 16,
   "metadata": {},
   "outputs": [],
   "source": [
    "def reshape_dataframe(df):\n",
    "    # First, get the first timestamp for each id\n",
    "    first_timestamps = df.groupby('id')['timestamp'].first().reset_index()\n",
    "    \n",
    "    # Add the 'month' column based on the timestamp\n",
    "    df.loc[:, 'month'] = df['timestamp'].dt.month\n",
    "    \n",
    "    # Pivot the data to create explicit columns for soc and power\n",
    "    pivot_df = df.pivot(index=['id', 'nominal_power', 'location_id'], \n",
    "                        columns='sub_id', \n",
    "                        values=['soc', 'power']).reset_index()\n",
    "    \n",
    "    # Modify column names to avoid multi-indexing\n",
    "    pivot_df.columns = [\n",
    "        f\"{col[0]}_{int(col[1])}\" if isinstance(col[1], (int, float)) else col[0]  \n",
    "        for col in pivot_df.columns\n",
    "    ]\n",
    "    \n",
    "    # Merge the first timestamp, season, and month back into the pivoted DataFrame\n",
    "    # Add the 'timestamp' column from first_timestamps\n",
    "    result_df = pivot_df.merge(first_timestamps[['id', 'timestamp']], on='id')\n",
    "    \n",
    "    # Merge the month column\n",
    "    result_df = result_df.merge(df[['id','month']].drop_duplicates(), on='id', how='left')\n",
    "    \n",
    "    return result_df\n"
   ]
  },
  {
   "cell_type": "code",
   "execution_count": null,
   "metadata": {},
   "outputs": [],
   "source": [
    "df_reshaped = reshape_dataframe(df)\n",
    "df_reshaped"
   ]
  },
  {
   "cell_type": "markdown",
   "metadata": {},
   "source": [
    "We reshaped the data so each row is one charging session"
   ]
  },
  {
   "cell_type": "markdown",
   "metadata": {},
   "source": [
    "## Filling in missing power and soc values "
   ]
  },
  {
   "cell_type": "code",
   "execution_count": null,
   "metadata": {},
   "outputs": [],
   "source": [
    "def fill_and_remove_missing(df):\n",
    "    \"\"\"\n",
    "    - For columns 'power_1' to 'power_39' and 'soc_1' to 'soc_39':\n",
    "      Fills missing values using the average of the previous and next values.\n",
    "\n",
    "    - After that, any remaining missing values in any column will cause the row to be removed.\n",
    "\n",
    "    Parameters:\n",
    "    - df (pd.DataFrame): The DataFrame with missing values.\n",
    "\n",
    "    Returns:\n",
    "    - pd.DataFrame: The DataFrame with missing values filled and rows with remaining NaNs removed.\n",
    "    \"\"\"\n",
    "    df = df.copy()  # Avoid modifying the original DataFrame\n",
    "\n",
    "    # Handle 'power_1' to 'power_39' and 'soc_1' to 'soc_39'\n",
    "    for prefix in ['power', 'soc']:\n",
    "        for i in range(1, 40):  # Covers power_1 to power_39 and soc_1 to soc_39\n",
    "            column_name = f'{prefix}_{i}'\n",
    "\n",
    "            if column_name in df.columns:\n",
    "                # Fill missing values using the average of the previous and next values\n",
    "                for idx in df[df[column_name].isnull()].index:\n",
    "                    if 0 < idx < len(df) - 1:  # Ensure we don't go out of bounds\n",
    "                        prev_value = df.at[idx - 1, column_name] if pd.notnull(df.at[idx - 1, column_name]) else None\n",
    "                        next_value = df.at[idx + 1, column_name] if pd.notnull(df.at[idx + 1, column_name]) else None\n",
    "\n",
    "                        if prev_value is not None and next_value is not None:\n",
    "                            df.at[idx, column_name] = (prev_value + next_value) / 2\n",
    "\n",
    "    # Calculate number of rows before dropping NaNs\n",
    "    rows_before = df.shape[0]\n",
    "\n",
    "    # Remove rows with any remaining missing values\n",
    "    df = df.dropna()\n",
    "\n",
    "    # Calculate number of rows removed\n",
    "    rows_after = df.shape[0]\n",
    "    rows_removed = rows_before - rows_after\n",
    "\n",
    "    print(f'Number of rows removed due to missing values: {rows_removed}')\n",
    "\n",
    "    return df\n",
    "\n",
    "# Example usage:\n",
    "df_cleaned = fill_and_remove_missing(df_reshaped)\n"
   ]
  },
  {
   "cell_type": "markdown",
   "metadata": {},
   "source": [
    "We handle missing values by computing the average between the the previous and the next power or soc reading. After this is done, most of the charging sessions does'nt have missing readings. With this number being so low, we have decided to remove the charging sessions if there are multiple consecutive missing values."
   ]
  },
  {
   "cell_type": "markdown",
   "metadata": {},
   "source": [
    "## Adding average temperature for each month"
   ]
  },
  {
   "cell_type": "code",
   "execution_count": 19,
   "metadata": {},
   "outputs": [],
   "source": [
    "def add_temp_col(df):\n",
    "  df = df.copy()\n",
    "  temperature_data = {\n",
    "      'month': [1, 2, 3, 4, 5, 6, 7, 8, 9, 10, 11, 12],\n",
    "      'temperatur': [-4, -4, 0, 5, 10, 14, 17, 15, 11, 5, 1, -3]\n",
    "  }\n",
    "  temp_df = pd.DataFrame(temperature_data)\n",
    "  df = df.merge(temp_df, on='month', how='left')\n",
    "  df = df.drop(columns=['month'])\n",
    "  return df"
   ]
  },
  {
   "cell_type": "markdown",
   "metadata": {},
   "source": [
    "We have found a strong indication between the temperature and the way the power behaves. Therefor we have created a new variable that takes the average temperature of each month. "
   ]
  },
  {
   "cell_type": "markdown",
   "metadata": {},
   "source": [
    "## Uploading the cleaned filed for further modeling"
   ]
  },
  {
   "cell_type": "code",
   "execution_count": null,
   "metadata": {},
   "outputs": [],
   "source": [
    "df_cleaned_for_model = add_temp_col(df_cleaned)\n",
    "df_cleaned_for_model.drop(columns=['id' ,'timestamp'], inplace=True)\n",
    "df_cleaned_for_model.to_parquet('../data/chargecurves_train_cleaned.parquet', engine='pyarrow')\n",
    "df_cleaned_for_model"
   ]
  },
  {
   "cell_type": "markdown",
   "metadata": {},
   "source": [
    "# Visualizations and data exploration"
   ]
  },
  {
   "cell_type": "markdown",
   "metadata": {},
   "source": [
    "## Distribution of charging sessions over time"
   ]
  },
  {
   "cell_type": "code",
   "execution_count": null,
   "metadata": {},
   "outputs": [],
   "source": [
    "fig = px.histogram(df_cleaned, x=\"timestamp\", title='Number of charging sessions over time')\n",
    "fig.show()"
   ]
  },
  {
   "cell_type": "markdown",
   "metadata": {},
   "source": [
    "## Power consumption at different times of day"
   ]
  },
  {
   "cell_type": "code",
   "execution_count": null,
   "metadata": {},
   "outputs": [],
   "source": [
    "# Plot histogram of total_power consumption by hour\n",
    "power_cols = [f'power_{i}' for i in range(40)]\n",
    "df_cleaned['hour'] = df_cleaned['timestamp'].dt.hour\n",
    "\n",
    "df_cleaned['total_power'] = df_cleaned[power_cols].sum(axis=1)\n",
    "plt.figure(figsize=(12, 6))\n",
    "sns.histplot(df_cleaned, x='hour', weights='total_power', bins=24, kde=True)\n",
    "\n",
    "# Customize plot\n",
    "plt.xlabel(\"Hour of the Day\")\n",
    "plt.ylabel(\"Total Power Consumption\")\n",
    "plt.title(\"Total Power Consumption at Different Times of the Day\")\n",
    "plt.xticks(range(0, 24))  # Ensure all hours are labeled\n",
    "plt.grid(axis='y', linestyle='--', alpha=0.7)\n",
    "\n",
    "# Show plot\n",
    "plt.show()"
   ]
  },
  {
   "cell_type": "markdown",
   "metadata": {},
   "source": [
    "## Overview of distributions between different nominal chargers"
   ]
  },
  {
   "cell_type": "code",
   "execution_count": null,
   "metadata": {},
   "outputs": [],
   "source": [
    "# Define the categorize function for nominal power\n",
    "def categorize_nominal_power(nominal_power):\n",
    "    if nominal_power <= 100:\n",
    "        return 'Low Power 0-100 DC'\n",
    "    elif nominal_power <= 150:\n",
    "        return 'Medium Power 101-150 DC'\n",
    "    elif nominal_power <= 300:\n",
    "        return 'High Power 151-300 DC'\n",
    "    else:\n",
    "        return 'Very High Power 301+ DC'\n",
    "\n",
    "# Apply the categorize function to the 'nominal_power' column\n",
    "df_cleaned['nominal_power_category'] = df_cleaned['nominal_power'].apply(categorize_nominal_power)\n",
    "\n",
    "# Sort the dataframe by nominal_power\n",
    "df_sorted = df_cleaned.sort_values('nominal_power')\n",
    "\n",
    "# Create the pie chart based on the nominal_power_category\n",
    "fig_pie = px.pie(df_cleaned, \n",
    "                 names='nominal_power_category', \n",
    "                 title=\"Distribution of Nominal Power Categories\",\n",
    "                 labels={\"nominal_power_category\": \"Nominal Power Category\"},\n",
    "                 color='nominal_power_category',  # Color by category\n",
    "                 color_discrete_map={\n",
    "                     'Low Power 0-100 DC': 'lightblue',\n",
    "                     'Medium Power 101-150 DC': 'lightskyblue',\n",
    "                     'High Power 151-300 DC': 'yellowgreen',\n",
    "                     'Very High Power 301+ DC': 'darkred'\n",
    "                 },\n",
    "                 category_orders={\"nominal_power_category\": ['Low Power 0-100 DC', \n",
    "                                                             'Medium Power 101-150 DC', \n",
    "                                                             'High Power 151-300 DC', \n",
    "                                                             'Very High Power 301+ DC']})  # Sort legend\n",
    "\n",
    "# Show the pie chart\n",
    "fig_pie.update_layout(\n",
    "    width=600,  # Set the width of the pie chart\n",
    "    height=600  # Set the height of the pie chart\n",
    ")\n",
    "\n",
    "fig_pie.show()\n",
    "\n"
   ]
  },
  {
   "cell_type": "code",
   "execution_count": null,
   "metadata": {},
   "outputs": [],
   "source": [
    "# Melt the power columns to long format and extract the minute information\n",
    "power_columns = [f'power_{i}' for i in range(1, 40)]  # 'power_1' to 'power_39'\n",
    "soc_columns = [f'soc_{i}' for i in range(0, 40)]  # 'soc_0' to 'soc_39'\n",
    "\n",
    "# Melt the power columns\n",
    "long_power_df = df_cleaned.melt(id_vars=[], value_vars=power_columns, \n",
    "                        var_name='minute', value_name='power')\n",
    "\n",
    "# Extract the minute from the column names (e.g., 'power_1' -> 1)\n",
    "long_power_df['minute'] = long_power_df['minute'].str.extract('(\\\\d+)').astype(int)\n",
    "\n",
    "# Melt the SOC columns\n",
    "long_soc_df = df_cleaned.melt(id_vars=[], value_vars=soc_columns, \n",
    "                      var_name='minute', value_name='soc')\n",
    "\n",
    "# Extract the minute from the column names (e.g., 'soc_0' -> 0)\n",
    "long_soc_df['minute'] = long_soc_df['minute'].str.extract('(\\\\d+)').astype(int)\n",
    "\n",
    "# Compute the median of all the powers for each minute\n",
    "overall_median = long_power_df.groupby('minute')['power'].median().reset_index()\n",
    "\n",
    "# Calculate the average SOC for each minute\n",
    "soc_trend = long_soc_df.groupby('minute')['soc'].mean().reset_index()\n",
    "\n",
    "# Create the combined line plot\n",
    "fig = go.Figure()\n",
    "\n",
    "# Add the median of all powers\n",
    "fig.add_trace(go.Scatter(x=overall_median['minute'], y=overall_median['power'], \n",
    "                         mode='lines', name='Power trend',\n",
    "                         line=dict(color='blue')))\n",
    "\n",
    "# Add the SOC trend\n",
    "fig.add_trace(go.Scatter(x=soc_trend['minute'], y=soc_trend['soc'], \n",
    "                         mode='lines', name='SOC Trend', \n",
    "                         line=dict(color='green')))\n",
    "\n",
    "# Customize the layout\n",
    "fig.update_layout(title=\"Overall Median Power and SOC Trend Over Time\",\n",
    "                  xaxis_title=\"Minute\",\n",
    "                  yaxis_title=\"Value\",\n",
    "                  legend_title=\"Power vs SOC\")\n",
    "\n",
    "# Show the plot\n",
    "fig.show()\n"
   ]
  },
  {
   "cell_type": "markdown",
   "metadata": {},
   "source": [
    "## Median power for each season"
   ]
  },
  {
   "cell_type": "code",
   "execution_count": null,
   "metadata": {},
   "outputs": [],
   "source": [
    "# Assuming 'timestamp' is in datetime format, if not, convert it\n",
    "df_cleaned['timestamp'] = pd.to_datetime(df_cleaned['timestamp'])\n",
    "\n",
    "# Create a 'season' variable based on the month of the year\n",
    "def assign_season(month):\n",
    "    if month in [12, 1, 2]:\n",
    "        return 'Winter'\n",
    "    elif month in [3, 4, 5]:\n",
    "        return 'Spring'\n",
    "    elif month in [6, 7, 8]:\n",
    "        return 'Summer'\n",
    "    else:\n",
    "        return 'Fall'\n",
    "\n",
    "# Apply the 'assign_season' function to the 'timestamp' column to create a 'season' column\n",
    "df_cleaned['season'] = df_cleaned['timestamp'].dt.month.apply(assign_season)\n",
    "\n",
    "# Melt the power columns to long format and extract the minute information\n",
    "power_columns = [f'power_{i}' for i in range(1, 40)]  # 'power_1' to 'power_39'\n",
    "soc_columns = [f'soc_{i}' for i in range(0, 40)]  # 'soc_0' to 'soc_39'\n",
    "\n",
    "# Loop through each unique season\n",
    "different_seasons = sorted(df_cleaned['season'].unique())\n",
    "\n",
    "# Use Plotly's built-in color scale (e.g., 'Viridis') for different lines\n",
    "colors = px.colors.qualitative.Set1  # You can use any color scale here\n",
    "\n",
    "# Create a figure\n",
    "fig = go.Figure()\n",
    "\n",
    "# Loop through all seasons and compute the overall median power for each\n",
    "for idx, season in enumerate(different_seasons):\n",
    "    # Filter the dataframe for the specific season\n",
    "    filtered_df = df_cleaned[df_cleaned['season'] == season]\n",
    "    \n",
    "    # Melt the power columns for this season\n",
    "    long_power_df = filtered_df.melt(id_vars=['season'], value_vars=power_columns, \n",
    "                                      var_name='minute', value_name='power')\n",
    "    \n",
    "    # Extract the minute from the column names (e.g., 'power_1' -> 1)\n",
    "    long_power_df['minute'] = long_power_df['minute'].astype(str).str.extract(r'(\\d+)')\n",
    "\n",
    "    # Drop rows where 'minute' is NaN\n",
    "    long_power_df = long_power_df.dropna(subset=['minute'])\n",
    "\n",
    "    # Convert 'minute' to integer after dropping NaN\n",
    "    long_power_df['minute'] = long_power_df['minute'].astype(int)\n",
    "\n",
    "    # Compute the median of all the powers for each minute\n",
    "    median_power = long_power_df.groupby('minute')['power'].median().reset_index()\n",
    "    \n",
    "    # Add the median of this season to the plot, assign a unique color for each\n",
    "    fig.add_trace(go.Scatter(x=median_power['minute'], y=median_power['power'], \n",
    "                             mode='lines', name=f'Median Power {season}',\n",
    "                             line=dict(color=colors[idx % len(colors)])))  # Color cycling\n",
    "\n",
    "# Melt the SOC columns\n",
    "long_soc_df = df_cleaned.melt(id_vars=[], value_vars=soc_columns, \n",
    "                      var_name='minute', value_name='soc')\n",
    "\n",
    "# Extract the minute from the column names (e.g., 'soc_0' -> 0)\n",
    "long_soc_df['minute'] = long_soc_df['minute'].str.extract(r'(\\d+)')\n",
    "\n",
    "# Drop rows where 'minute' is NaN\n",
    "long_soc_df = long_soc_df.dropna(subset=['minute'])\n",
    "\n",
    "# Convert 'minute' to integer after dropping NaN\n",
    "long_soc_df['minute'] = long_soc_df['minute'].astype(int)\n",
    "\n",
    "# Customize the layout\n",
    "fig.update_layout(title=\"Median Power for Each Season\",\n",
    "                  xaxis_title=\"Minute\",\n",
    "                  yaxis_title=\"Value\",\n",
    "                  legend_title=\"Seasons\")\n",
    "\n",
    "# Show the plot\n",
    "fig.show()\n"
   ]
  },
  {
   "cell_type": "markdown",
   "metadata": {},
   "source": [
    "## Median power for each month"
   ]
  },
  {
   "cell_type": "code",
   "execution_count": null,
   "metadata": {},
   "outputs": [],
   "source": [
    "# Melt the power columns to long format and extract the minute information\n",
    "power_columns = [f'power_{i}' for i in range(1, 40)]  # 'power_1' to 'power_39'\n",
    "\n",
    "# Assuming 'month' is a column in your DataFrame, which categorizes each row into a month\n",
    "# Loop through each unique month\n",
    "different_months = sorted(df_cleaned['month'].unique())\n",
    "\n",
    "# Month names mapping\n",
    "month_names = {\n",
    "    1: 'January avg. temp. -4', 2: 'February avg. temp. -4', 3: 'March avg. temp. 0', 4: 'April avg. temp. 5', 5: 'May avg. temp. 10', 6: 'June avg. temp. 14',\n",
    "    7: 'July avg. temp. 17', 8: 'August avg. temp. 15', 9: 'September avg. temp. 11', 10: 'October avg. temp. 5', 11: 'November avg. temp. 1', 12: 'December avg. temp. -3'\n",
    "}\n",
    "\n",
    "# Average temperatures for each month\n",
    "month_temperatures = {\n",
    "    1: -4, 2: -4, 3: 0, 4: 5, 5: 10, 6: 14, 7: 17, 8: 15, 9: 11, 10: 5, 11: 1, 12: -3\n",
    "}\n",
    "\n",
    "# Create a figure\n",
    "fig = go.Figure()\n",
    "\n",
    "# Get the minimum and maximum temperature values across all months for normalization\n",
    "min_temp = min(month_temperatures.values())\n",
    "max_temp = max(month_temperatures.values())\n",
    "\n",
    "# Loop through all months and compute the overall median power for each\n",
    "for idx, month in enumerate(different_months):\n",
    "    # Filter the dataframe for the specific month\n",
    "    filtered_df = df_cleaned[df_cleaned['month'] == month]\n",
    "    \n",
    "    # Melt the power columns for this month\n",
    "    long_power_df = filtered_df.melt(id_vars=['month'], value_vars=power_columns, \n",
    "                                      var_name='minute', value_name='power')\n",
    "    \n",
    "    long_power_df['minute'] = long_power_df['minute'].astype(str).str.extract(r'(\\d+)').astype(int)\n",
    "\n",
    "    # Compute the median of all the powers for each minute\n",
    "    median_power = long_power_df.groupby('minute')['power'].median().reset_index()\n",
    "\n",
    "    # Get the average temperature for the current month\n",
    "    avg_temp = month_temperatures[month]\n",
    "\n",
    "    # Normalize the temperature to [0, 1] for the diverging color scale\n",
    "    norm_temp = (avg_temp - min_temp) / (max_temp - min_temp)\n",
    "\n",
    "    # Create a color for this month based on the normalized temperature using the reversed 'RdBu' diverging scale\n",
    "    color = px.colors.diverging.RdBu[::-1][int(norm_temp * (len(px.colors.diverging.RdBu) - 1))]\n",
    "\n",
    "    # Add the median of this month to the plot, assign a unique color for each\n",
    "    fig.add_trace(go.Scatter(x=median_power['minute'], y=median_power['power'], \n",
    "                             mode='lines', name=month_names[month],\n",
    "                             line=dict(color=color)))  # Diverging color based on normalized temp\n",
    "\n",
    "# Customize the layout\n",
    "fig.update_layout(title=\"Median Power for Each Month colored by average temperature\",\n",
    "                  xaxis_title=\"Minute\",\n",
    "                  yaxis_title=\"Power\",\n",
    "                  legend_title=\"Months and average temperature\")\n",
    "\n",
    "# Show the plot\n",
    "fig.show()\n"
   ]
  }
 ],
 "metadata": {
  "kernelspec": {
   "display_name": "INF161",
   "language": "python",
   "name": "python3"
  },
  "language_info": {
   "codemirror_mode": {
    "name": "ipython",
    "version": 3
   },
   "file_extension": ".py",
   "mimetype": "text/x-python",
   "name": "python",
   "nbconvert_exporter": "python",
   "pygments_lexer": "ipython3",
   "version": "3.12.7"
  }
 },
 "nbformat": 4,
 "nbformat_minor": 2
}
