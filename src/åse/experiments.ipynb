{
 "cells": [
  {
   "cell_type": "code",
   "execution_count": 1,
   "metadata": {},
   "outputs": [],
   "source": [
    "import pandas as pd\n",
    "import numpy as np\n",
    "import pyarrow.parquet as pq\n",
    "import matplotlib.pyplot as plt\n",
    "import plotly.express as px\n",
    "from sklearn.model_selection import train_test_split\n"
   ]
  },
  {
   "cell_type": "code",
   "execution_count": 2,
   "metadata": {},
   "outputs": [],
   "source": [
    "np.random.seed(42)\n",
    "pd.set_option('display.max_columns', None)\n",
    "pd.set_option('display.max_rows', None)"
   ]
  },
  {
   "cell_type": "code",
   "execution_count": null,
   "metadata": {},
   "outputs": [],
   "source": [
    "data = pd.read_parquet(\"/Users/asegrethe/Documents/CEDASHackathon2025/src/data/cedas2025_material/data/chargecurves_train.parquet\")\n",
    "data.head()\n"
   ]
  },
  {
   "cell_type": "code",
   "execution_count": 4,
   "metadata": {},
   "outputs": [],
   "source": [
    "power=(data['power'] > 500)\n"
   ]
  },
  {
   "cell_type": "markdown",
   "metadata": {},
   "source": [
    "Fjerner hvis power er mer enn 100, ettersom vi kan ikke ha mer enn 100 "
   ]
  },
  {
   "cell_type": "code",
   "execution_count": null,
   "metadata": {},
   "outputs": [],
   "source": [
    "soc=(data['soc'] > 100).sum()\n",
    "soc"
   ]
  },
  {
   "cell_type": "code",
   "execution_count": null,
   "metadata": {},
   "outputs": [],
   "source": [
    "ids_above_100 = data.loc[data['soc'] > 100, 'id'].unique()\n",
    "px.histogram(data.loc[data['id'].isin(ids_above_100), 'soc'], title='SOC values above 100%')"
   ]
  },
  {
   "cell_type": "code",
   "execution_count": 7,
   "metadata": {},
   "outputs": [],
   "source": [
    "def soc_outliers(data):\n",
    "    ids_above_100 = data.loc[data['soc'] > 100, 'id'].unique()\n",
    "    ids_below_0 = data.loc[data['soc'] < 0, 'id'].unique()\n",
    "    return ids_above_100, ids_below_0"
   ]
  },
  {
   "cell_type": "markdown",
   "metadata": {},
   "source": [
    "Vanlig power, unormale verdier, fjerne?"
   ]
  },
  {
   "cell_type": "code",
   "execution_count": null,
   "metadata": {},
   "outputs": [],
   "source": [
    "mean_power = data['power'].mean()\n",
    "median_power = data['power'].median()\n",
    "max_power = data['power'].max()\n",
    "nominal_max=data['nominal_power'].max()\n",
    "\n",
    "\n",
    "mean_power, median_power, max_power, nominal_max\n",
    "\n"
   ]
  },
  {
   "cell_type": "code",
   "execution_count": null,
   "metadata": {},
   "outputs": [],
   "source": [
    "fig = px.histogram(data, x=\"power\", nbins=50, title=\"Distribution of Power-values\")\n",
    "fig.show()"
   ]
  },
  {
   "cell_type": "code",
   "execution_count": null,
   "metadata": {},
   "outputs": [],
   "source": [
    "fig = px.histogram(data, x=\"nominal_power\", nbins=50, title=\"Distribution of Nominal Power-values\")\n",
    "fig.show()"
   ]
  },
  {
   "cell_type": "markdown",
   "metadata": {},
   "source": [
    "outliers"
   ]
  },
  {
   "cell_type": "code",
   "execution_count": null,
   "metadata": {},
   "outputs": [],
   "source": [
    "fig = px.histogram(data[data['power'] <= 500], x=\"power\", nbins=50, title=\"Distributions of Power (without outliers)\")\n",
    "fig.show()"
   ]
  },
  {
   "cell_type": "code",
   "execution_count": 12,
   "metadata": {},
   "outputs": [],
   "source": [
    "data = data[data['power'] <= 500]"
   ]
  },
  {
   "cell_type": "markdown",
   "metadata": {},
   "source": [
    "Sjekker om power er mer enn nominal power, i de tilfellene setter vi dem ned "
   ]
  },
  {
   "cell_type": "code",
   "execution_count": 13,
   "metadata": {},
   "outputs": [],
   "source": [
    "def power_nominal(data):\n",
    "    if data['power'] > data['nominal_power']:\n",
    "        data['power'] = data['nominal_power']\n",
    "    return data\n"
   ]
  },
  {
   "cell_type": "code",
   "execution_count": null,
   "metadata": {},
   "outputs": [],
   "source": [
    "data.describe()"
   ]
  },
  {
   "cell_type": "code",
   "execution_count": null,
   "metadata": {},
   "outputs": [],
   "source": [
    "data[data['id']==1]"
   ]
  },
  {
   "cell_type": "markdown",
   "metadata": {},
   "source": [
    "## Line plot for id 1"
   ]
  },
  {
   "cell_type": "code",
   "execution_count": null,
   "metadata": {},
   "outputs": [],
   "source": [
    "# Create the line plot\n",
    "px.line(data[data['id']==1], x='timestamp', y='power', title=\"Charging Curve\")"
   ]
  },
  {
   "cell_type": "code",
   "execution_count": null,
   "metadata": {},
   "outputs": [],
   "source": [
    "soc_values = data.loc[data['id'] == 1]\n",
    "px.line(soc_values, x='timestamp', y='soc', title=\"SOC Curve\")"
   ]
  },
  {
   "cell_type": "code",
   "execution_count": null,
   "metadata": {},
   "outputs": [],
   "source": [
    "filtered_data = data[data['id'] == 1].copy()\n",
    "\n",
    "filtered_data['timestamp'] = pd.to_datetime(filtered_data['timestamp'])\n",
    "fig = px.line(filtered_data, x='timestamp', y=['soc', 'power'], title=\"SOC & Charging Power Overlap\")\n",
    "\n",
    "fig.show()"
   ]
  },
  {
   "cell_type": "markdown",
   "metadata": {},
   "source": [
    "### plot the time and the power"
   ]
  },
  {
   "cell_type": "code",
   "execution_count": null,
   "metadata": {},
   "outputs": [],
   "source": [
    "grouped_summary = data.groupby(['nominal_power', 'location_id']).agg(\n",
    "    count=('id', 'count'), \n",
    "    avg_power=('power', 'mean'), \n",
    "    avg_soc=('soc', 'mean') ) \n",
    "\n",
    "fig = px.histogram(grouped_summary, x=\"avg_power\", title=\"Histogram of Average Power\", nbins=30)\n",
    "fig.show()"
   ]
  },
  {
   "cell_type": "code",
   "execution_count": null,
   "metadata": {},
   "outputs": [],
   "source": [
    "fig_train = px.histogram(\n",
    "    data,\n",
    "    x=['power', 'soc'],\n",
    "    title='power vs soc',\n",
    "    barmode='overlay'\n",
    ")\n",
    "fig_train.update_traces(opacity=0.6)\n",
    "fig_train.show()\n"
   ]
  },
  {
   "cell_type": "code",
   "execution_count": null,
   "metadata": {},
   "outputs": [],
   "source": [
    "# Count NaNs per id\n",
    "nan_counts = data[['id', 'soc', 'power']].isna().groupby(data['id']).sum()\n",
    "\n",
    "# Get IDs where either 'soc' or 'power' has more than 15 NaNs\n",
    "problematic_ids = nan_counts[(nan_counts > 15).any(axis=1)].index\n",
    "problematic_ids.tolist()"
   ]
  },
  {
   "cell_type": "markdown",
   "metadata": {},
   "source": [
    "Are there \"groups of sessions\" that look similar in any way?"
   ]
  },
  {
   "cell_type": "code",
   "execution_count": null,
   "metadata": {},
   "outputs": [],
   "source": [
    "fig = px.histogram(data, x=\"power\", color=\"location_id\", \n",
    "                   title=\"Power Distribution by Charging Station\")\n",
    "\n",
    "fig.show()"
   ]
  },
  {
   "cell_type": "code",
   "execution_count": null,
   "metadata": {},
   "outputs": [],
   "source": [
    "from scipy.stats import f_oneway\n",
    "\n",
    "# Group power values by location_id\n",
    "groups = [group['power'].values for _, group in data.groupby('location_id')]\n",
    "\n",
    "# Perform one-way ANOVA\n",
    "anova_result = f_oneway(*groups)\n",
    "print(f\"ANOVA p-value: {anova_result.pvalue}\")"
   ]
  },
  {
   "cell_type": "code",
   "execution_count": null,
   "metadata": {},
   "outputs": [],
   "source": [
    "from statsmodels.stats.multicomp import pairwise_tukeyhsd\n",
    "\n",
    "# Create the Tukey test\n",
    "tukey = pairwise_tukeyhsd(endog=data['power'], groups=data['location_id'], alpha=0.05)\n",
    "\n",
    "# Print the results\n",
    "print(tukey)"
   ]
  },
  {
   "cell_type": "code",
   "execution_count": null,
   "metadata": {},
   "outputs": [],
   "source": [
    "avg_power_by_location = data.groupby('location_id')['power'].mean().sort_values()\n",
    "print(avg_power_by_location)"
   ]
  },
  {
   "cell_type": "markdown",
   "metadata": {},
   "source": [
    "## Split the data"
   ]
  },
  {
   "cell_type": "code",
   "execution_count": 24,
   "metadata": {},
   "outputs": [],
   "source": [
    "train_data_full = data\n",
    "id=data['id'].unique()\n",
    "\n",
    "train, validation = train_test_split(train_data_full, train_size=0.70, test_size=0.15)\n",
    "test, validation = train_test_split(validation, train_size=0.5)\n"
   ]
  }
 ],
 "metadata": {
  "kernelspec": {
   "display_name": "inf161",
   "language": "python",
   "name": "python3"
  },
  "language_info": {
   "codemirror_mode": {
    "name": "ipython",
    "version": 3
   },
   "file_extension": ".py",
   "mimetype": "text/x-python",
   "name": "python",
   "nbconvert_exporter": "python",
   "pygments_lexer": "ipython3",
   "version": "3.12.5"
  }
 },
 "nbformat": 4,
 "nbformat_minor": 4
}
