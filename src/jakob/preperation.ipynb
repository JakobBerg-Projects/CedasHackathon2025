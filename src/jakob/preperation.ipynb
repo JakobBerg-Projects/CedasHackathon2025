version https://git-lfs.github.com/spec/v1
oid sha256:847c464ba89de4866c29f931dd37f6dd4aca5f24043e7b70ae1e1dd52f3e6d2c
size 127899372
